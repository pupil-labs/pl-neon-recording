{
 "cells": [
  {
   "cell_type": "code",
   "execution_count": 1,
   "metadata": {},
   "outputs": [],
   "source": [
    "import numpy as np\n",
    "import matplotlib.pyplot as plt\n",
    "import pandas as pd\n",
    "import json\n",
    "import pprint\n",
    "\n",
    "import pathlib\n",
    "import logging"
   ]
  },
  {
   "cell_type": "code",
   "execution_count": 2,
   "metadata": {},
   "outputs": [],
   "source": [
    "# Use start time from info file (instead of recording.meta_info.start_time_synced_ns)\n",
    "# to have a more precise value and avoid having a negative first timestamp when rewriting\n",
    "# start_time_synced_ns = int(info_json[\"start_time\"])\n",
    "# start_time_synced_ns = 1706217550686000000\n",
    "\n",
    "def conversion(timestamps):\n",
    "    # Subtract start_time from all times in the recording, so timestamps\n",
    "    # start at 0. This is to increase precision when converting\n",
    "    # timestamps to float32, e.g. for OpenGL!\n",
    "    SECONDS_PER_NANOSECOND = 1e-9\n",
    "    # return (timestamps - start_time_synced_ns) * SECONDS_PER_NANOSECOND\n",
    "    return timestamps * SECONDS_PER_NANOSECOND"
   ]
  },
  {
   "cell_type": "code",
   "execution_count": 3,
   "metadata": {},
   "outputs": [],
   "source": [
    "def _rewrite_times(path, dtype=\"<u8\"):\n",
    "    \"\"\"Load raw times (assuming dtype), apply conversion and save as _timestamps.npy.\"\"\"\n",
    "    \n",
    "    timestamps = np.fromfile(str(path), dtype=dtype)\n",
    "    new_name = f\"{path.stem}_timestamps_unix.npy\"\n",
    "    timestamp_loc = path.parent / new_name\n",
    "    np.save(str(timestamp_loc), timestamps)\n",
    "\n",
    "    timestamps = conversion(timestamps)\n",
    "\n",
    "    new_name = f\"{path.stem}_timestamps.npy\"\n",
    "    # logger.info(f\"Creating {new_name}\")\n",
    "    timestamp_loc = path.parent / new_name\n",
    "    np.save(str(timestamp_loc), timestamps)"
   ]
  },
  {
   "cell_type": "code",
   "execution_count": 4,
   "metadata": {},
   "outputs": [],
   "source": [
    "def _load_timestamps_data(path):\n",
    "    timestamps = np.load(str(path))\n",
    "    return timestamps.astype(np.float64)"
   ]
  },
  {
   "cell_type": "code",
   "execution_count": 5,
   "metadata": {},
   "outputs": [],
   "source": [
    "def _neon_raw_time_load(path):\n",
    "    return np.fromfile(str(path), dtype=\"<u8\")"
   ]
  },
  {
   "cell_type": "code",
   "execution_count": 6,
   "metadata": {},
   "outputs": [],
   "source": [
    "def _load_raw_data(path):\n",
    "    raw_data = np.fromfile(str(path), \"<f4\")\n",
    "    raw_data_dtype = raw_data.dtype\n",
    "    raw_data.shape = (-1, 2)\n",
    "    return np.asarray(raw_data, dtype=raw_data_dtype)"
   ]
  },
  {
   "cell_type": "code",
   "execution_count": 7,
   "metadata": {},
   "outputs": [],
   "source": [
    "def _load_worn_data(path: pathlib.Path):\n",
    "    if not (path and path.exists()):\n",
    "        return None\n",
    "\n",
    "    confidences = np.fromfile(str(path), \"<u1\") / 255.0\n",
    "    return np.clip(confidences, 0.0, 1.0)"
   ]
  },
  {
   "cell_type": "code",
   "execution_count": 8,
   "metadata": {},
   "outputs": [],
   "source": [
    "# obtained here:\n",
    "# https://github.com/pupil-labs/neon-player/blob/master/pupil_src/shared_modules/imu_timeline/imu_timeline.py#L72\n",
    "from scipy.spatial.transform import Rotation\n",
    "\n",
    "import imu_pb2\n",
    "\n",
    "logger = logging.getLogger(__name__)\n",
    "\n",
    "def parse_neon_imu_raw_packets(buffer):\n",
    "    index = 0\n",
    "    packet_sizes = []\n",
    "    while True:\n",
    "        nums = np.frombuffer(buffer[index : index + 2], np.uint16)\n",
    "        if not nums:\n",
    "            break\n",
    "        index += 2\n",
    "        packet_size = nums[0]\n",
    "        packet_sizes.append(packet_size)\n",
    "        packet_bytes = buffer[index : index + packet_size]\n",
    "        index += packet_size\n",
    "        packet = imu_pb2.ImuPacket()\n",
    "        packet.ParseFromString(packet_bytes)\n",
    "        yield packet\n",
    "\n",
    "\n",
    "class IMURecording:\n",
    "    DTYPE_RAW = np.dtype(\n",
    "        [\n",
    "            (\"gyro_x\", \"<f4\"),\n",
    "            (\"gyro_y\", \"<f4\"),\n",
    "            (\"gyro_z\", \"<f4\"),\n",
    "            (\"accel_x\", \"<f4\"),\n",
    "            (\"accel_y\", \"<f4\"),\n",
    "            (\"accel_z\", \"<f4\"),\n",
    "            (\"pitch\", \"<f4\"),\n",
    "            (\"yaw\", \"<f4\"),\n",
    "            (\"roll\", \"<f4\"),\n",
    "            (\"quaternion_w\", \"<f4\"),\n",
    "            (\"quaternion_x\", \"<f4\"),\n",
    "            (\"quaternion_y\", \"<f4\"),\n",
    "            (\"quaternion_z\", \"<f4\"),\n",
    "            (\"tsNs\", \"uint64\"),\n",
    "            (\"ts\", \"<f8\"),\n",
    "            (\"ts_rel\", \"<f8\")\n",
    "        ]\n",
    "    )\n",
    "\n",
    "    def __init__(self, path_to_imu_raw: pathlib.Path, start_ts):\n",
    "        stem = path_to_imu_raw.stem\n",
    "        self.path_raw = path_to_imu_raw\n",
    "        self.path_ts = path_to_imu_raw.with_name(stem + \"_timestamps.npy\")\n",
    "        self.load(start_ts)\n",
    "\n",
    "    def load(self, start_ts):\n",
    "        if not self.path_raw.exists() and self.path_ts.exists():\n",
    "            self.ts = np.empty(0, dtype=np.float64)\n",
    "            self.raw = []\n",
    "            return\n",
    "\n",
    "        self.ts = np.load(str(self.path_ts))\n",
    "        with self.path_raw.open('rb') as raw_file:\n",
    "            raw_data = raw_file.read()\n",
    "            imu_packets = parse_neon_imu_raw_packets(raw_data)\n",
    "            imu_data = []\n",
    "            for packet in imu_packets:\n",
    "                rotation = Rotation.from_quat([packet.rotVecData.x, packet.rotVecData.y, packet.rotVecData.z, packet.rotVecData.w])\n",
    "                euler = rotation.as_euler(seq='XZY', degrees=True)\n",
    "\n",
    "                ts = conversion(float(packet.tsNs))\n",
    "                ts_rel = ts - start_ts\n",
    "\n",
    "                imu_data.append((\n",
    "                    packet.gyroData.x, packet.gyroData.y, packet.gyroData.z,\n",
    "                    packet.accelData.x, packet.accelData.y, packet.accelData.z,\n",
    "                    *euler,\n",
    "                    packet.rotVecData.w, packet.rotVecData.x, packet.rotVecData.y, packet.rotVecData.z,\n",
    "                    packet.tsNs,\n",
    "                    ts,\n",
    "                    ts_rel\n",
    "                ))\n",
    "\n",
    "            self.raw = np.array(imu_data, dtype=IMURecording.DTYPE_RAW).view(\n",
    "                np.recarray\n",
    "            )\n",
    "\n",
    "        num_ts_during_init = self.ts.size - len(self.raw)\n",
    "        if num_ts_during_init > 0:\n",
    "            self.ts = self.ts[num_ts_during_init:]"
   ]
  },
  {
   "cell_type": "code",
   "execution_count": 11,
   "metadata": {},
   "outputs": [
    {
     "name": "stderr",
     "output_type": "stream",
     "text": [
      "/var/folders/by/f4g6q8690z50zbfvy6kq71cc0000gn/T/ipykernel_80601/647576048.py:14: DeprecationWarning: The truth value of an empty array is ambiguous. Returning False, but in future this will result in an error. Use `array.size > 0` to check that an array is not empty.\n",
      "  if not nums:\n"
     ]
    }
   ],
   "source": [
    "start_ts = conversion(1706217550686000000)\n",
    "\n",
    "with pathlib.Path('../tests/test_data/2024-01-25_22-19-10_test-f96b6e36/extimu ps1.raw').open('rb') as raw_file:\n",
    "            raw_data = raw_file.read()\n",
    "            imu_packets = parse_neon_imu_raw_packets(raw_data)\n",
    "            imu_data = []\n",
    "            for packet in imu_packets:\n",
    "                rotation = Rotation.from_quat([packet.rotVecData.x, packet.rotVecData.y, packet.rotVecData.z, packet.rotVecData.w])\n",
    "                euler = rotation.as_euler(seq='XZY', degrees=True)\n",
    "                \n",
    "                ts = conversion(packet.tsNs)\n",
    "                ts_rel = ts - start_ts\n",
    "\n",
    "                imu_data.append((\n",
    "                    packet.gyroData.x, packet.gyroData.y, packet.gyroData.z,\n",
    "                    packet.accelData.x, packet.accelData.y, packet.accelData.z,\n",
    "                    *euler,\n",
    "                    packet.rotVecData.w, packet.rotVecData.x, packet.rotVecData.y, packet.rotVecData.z,\n",
    "                    packet.tsNs,\n",
    "                    ts,\n",
    "                    ts_rel\n",
    "                ))\n",
    "\n",
    "            raw = np.array(imu_data, dtype=IMURecording.DTYPE_RAW).view(\n",
    "                np.recarray\n",
    "            )"
   ]
  },
  {
   "cell_type": "code",
   "execution_count": 12,
   "metadata": {},
   "outputs": [
    {
     "data": {
      "text/plain": [
       "rec.array([( 0.10108948, -0.53596497, 0.70762634, 0.04443359, -0.6230469 , 0.7832031 , -118.563385, -44.58207 , 124.69439 , 0.50820255, -0.1975484 , 0.2673142 , -0.7945111 , 1706217553148771064, 1.70621755e+09,  2.46277094),\n",
       "           ( 0.2822876 , -0.47683716, 0.5893707 , 0.04882812, -0.6269531 , 0.78271484, -118.54282 , -44.59728 , 124.66329 , 0.5083921 , -0.19759709, 0.26724702, -0.7944003 , 1706217553159015064, 1.70621755e+09,  2.47301483),\n",
       "           ( 0.2822876 , -0.11062622, 0.5245209 , 0.04150391, -0.62841797, 0.77539057, -118.5168  , -44.61387 , 124.62134 , 0.5086237 , -0.19768989, 0.26716286, -0.7942572 , 1706217553169259064, 1.70621755e+09,  2.48325872),\n",
       "           ...,\n",
       "           (-0.78201294, -2.6168823 , 2.653122  , 0.11816406, -0.8154297 , 0.5932617 , -107.888054, -33.64299 , 110.22006 , 0.51416355, -0.30293173, 0.32829908, -0.7321802 , 1706217591021952064, 1.70621759e+09, 40.33595181),\n",
       "           (-1.2111664 , -2.2525787 , 2.7179718 , 0.12597656, -0.80615234, 0.61083984, -107.860855, -33.643444, 110.17224 , 0.5143746 , -0.30311283, 0.32825592, -0.73197633, 1706217591032251064, 1.70621759e+09, 40.34625101),\n",
       "           (-1.0871887 , -1.5830994 , 2.3479462 , 0.13330078, -0.7998047 , 0.5942383 , -107.83384 , -33.64339 , 110.125694, 0.5145792 , -0.3032891 , 0.3282198 , -0.7317757 , 1706217591042550064, 1.70621759e+09, 40.35654974)],\n",
       "          dtype=[('gyro_x', '<f4'), ('gyro_y', '<f4'), ('gyro_z', '<f4'), ('accel_x', '<f4'), ('accel_y', '<f4'), ('accel_z', '<f4'), ('pitch', '<f4'), ('yaw', '<f4'), ('roll', '<f4'), ('quaternion_w', '<f4'), ('quaternion_x', '<f4'), ('quaternion_y', '<f4'), ('quaternion_z', '<f4'), ('tsNs', '<u8'), ('ts', '<f8'), ('ts_rel', '<f8')])"
      ]
     },
     "execution_count": 12,
     "metadata": {},
     "output_type": "execute_result"
    }
   ],
   "source": [
    "raw"
   ]
  },
  {
   "cell_type": "code",
   "execution_count": 13,
   "metadata": {},
   "outputs": [
    {
     "name": "stderr",
     "output_type": "stream",
     "text": [
      "/var/folders/by/f4g6q8690z50zbfvy6kq71cc0000gn/T/ipykernel_80601/647576048.py:14: DeprecationWarning: The truth value of an empty array is ambiguous. Returning False, but in future this will result in an error. Use `array.size > 0` to check that an array is not empty.\n",
      "  if not nums:\n"
     ]
    }
   ],
   "source": [
    "_rewrite_times(pathlib.Path('../tests/test_data/2024-01-25_22-19-10_test-f96b6e36/extimu ps1.time'))\n",
    "imu_rec = IMURecording(pathlib.Path('../tests/test_data/2024-01-25_22-19-10_test-f96b6e36/extimu ps1.raw'), conversion(1706217550686000000))"
   ]
  },
  {
   "cell_type": "code",
   "execution_count": 14,
   "metadata": {},
   "outputs": [
    {
     "data": {
      "text/plain": [
       "[1706217553.1487713, 1706217553.1590152]"
      ]
     },
     "execution_count": 14,
     "metadata": {},
     "output_type": "execute_result"
    }
   ],
   "source": [
    "[imu_rec.raw.ts[0], imu_rec.raw.ts[1]]"
   ]
  },
  {
   "cell_type": "code",
   "execution_count": 15,
   "metadata": {},
   "outputs": [],
   "source": [
    "gaze_ps1_raw = _load_raw_data('../tests/test_data/2024-01-25_22-19-10_test-f96b6e36/gaze ps1.raw')\n",
    "gaze_ps1_time = _neon_raw_time_load('../tests/test_data/2024-01-25_22-19-10_test-f96b6e36/gaze ps1.time')\n",
    "\n",
    "gaze_200hz_raw = _load_raw_data('../tests/test_data/2024-01-25_22-19-10_test-f96b6e36/gaze_200hz.raw')\n",
    "gaze_200hz_time = _neon_raw_time_load('../tests/test_data/2024-01-25_22-19-10_test-f96b6e36/gaze_200hz.time')\n",
    "\n",
    "gaze_right_ps1_raw = _load_raw_data('../tests/test_data/2024-01-25_22-19-10_test-f96b6e36/gaze_right ps1.raw')\n",
    "gaze_right_ps1_time = _neon_raw_time_load('../tests/test_data/2024-01-25_22-19-10_test-f96b6e36/gaze_right ps1.time')\n",
    "\n",
    "# '../tests/test_data/2024-01-25_22-19-10_test-f96b6e36/Neon Scene Camera v1 ps1.time'\n",
    "# '../tests/test_data/2024-01-25_22-19-10_test-f96b6e36/Neon Scene Camera v1 ps1.time_aux'\n",
    "\n",
    "# '../tests/test_data/2024-01-25_22-19-10_test-f96b6e36/Neon Sensor Module Camera v1 ps1.time'\n",
    "# '../tests/test_data/2024-01-25_22-19-10_test-f96b6e36/Neon Sensor Module Camera v1 ps1.time_aux'\n",
    "\n",
    "# imu_ps1_raw = _load_raw_data('../tests/test_data/2024-01-25_22-19-10_test-f96b6e36/extimu ps1.raw')\n",
    "# imu_ps1_time = _neon_raw_time_load('../tests/test_data/2024-01-25_22-19-10_test-f96b6e36/extimu ps1.time')\n",
    "\n",
    "worn_ps1_raw = _load_worn_data(pathlib.Path('../tests/test_data/2024-01-25_22-19-10_test-f96b6e36/worn ps1.raw'))\n",
    "# worn_200hz_raw = _neon_raw_time_load('../tests/test_data/2024-01-25_22-19-10_test-f96b6e36/worn_200hz.raw')"
   ]
  },
  {
   "cell_type": "code",
   "execution_count": 16,
   "metadata": {},
   "outputs": [
    {
     "data": {
      "text/plain": [
       "array([1., 1., 1., ..., 1., 1., 1.])"
      ]
     },
     "execution_count": 16,
     "metadata": {},
     "output_type": "execute_result"
    }
   ],
   "source": [
    "worn_ps1_raw"
   ]
  },
  {
   "cell_type": "code",
   "execution_count": 17,
   "metadata": {},
   "outputs": [],
   "source": [
    "class Stream():\n",
    "    def __init__(self, name):\n",
    "        self.name = name\n",
    "        self.data = []\n",
    "        self.ts = []\n",
    "        self.ts_rel = []\n",
    "\n",
    "    def load(self, data):\n",
    "        self.data = data[:]\n",
    "        self.ts = data[:].ts\n",
    "        self.ts_rel = data[:].ts_rel\n",
    "\n",
    "    def sample(self, tstamps):\n",
    "        if len(tstamps) == 1:\n",
    "            if tstamps < self.ts[0]:\n",
    "                self.closest_idxs = [None]\n",
    "            \n",
    "            if tstamps > self.ts[-1]:\n",
    "                self.closest_idxs = [None]\n",
    "            \n",
    "            self.closest_idxs = np.searchsorted(self.ts, tstamps)\n",
    "\n",
    "        sorted_tses = np.sort(tstamps)\n",
    "\n",
    "        self.closest_idxs = []\n",
    "        for tc in range(1, len(sorted_tses)):\n",
    "            prev_ts = sorted_tses[tc - 1]\n",
    "            curr_ts = sorted_tses[tc]\n",
    "\n",
    "            bounded_tstamps = self.ts[(self.ts >= prev_ts) & (self.ts <= curr_ts)]\n",
    "\n",
    "            if len(bounded_tstamps) == 0:\n",
    "                self.closest_idxs.append(None)\n",
    "                continue\n",
    "\n",
    "            # just always take the one that is closest to the current timestamp\n",
    "            closest_ts = bounded_tstamps[-1]\n",
    "\n",
    "            # this has the feeling of suboptimal\n",
    "            self.closest_idxs.append(np.where(self.ts == closest_ts)[0][0])\n",
    "\n",
    "    def __iter__(self):\n",
    "        self.idx = 0\n",
    "        return self\n",
    "    \n",
    "    def __next__(self):\n",
    "        if self.idx < len(self.closest_idxs):\n",
    "            idx = self.closest_idxs[self.idx]\n",
    "\n",
    "            if idx is None:\n",
    "                self.idx += 1\n",
    "                return None\n",
    "            else:\n",
    "                self.idx += 1\n",
    "                return self.data[idx:idx+1]\n",
    "        else:\n",
    "            raise StopIteration"
   ]
  },
  {
   "cell_type": "code",
   "execution_count": 18,
   "metadata": {},
   "outputs": [],
   "source": [
    "# def sample(self, tstamps):\n",
    "#     if len(tstamps) == 1:\n",
    "#         if tstamps < self.ts[0]:\n",
    "#             self.closest_idxs = [None]\n",
    "        \n",
    "#         if tstamps > self.ts[-1]:\n",
    "#             self.closest_idxs = [None]\n",
    "        \n",
    "#         self.closest_idxs = np.searchsorted(self.ts, tstamps)\n",
    "\n",
    "#     sorted_tses = np.sort(tstamps)\n",
    "\n",
    "#     self.closest_idxs = []\n",
    "#     for tc in range(1, len(sorted_tses)):\n",
    "#         prev_ts = sorted_tses[tc - 1]\n",
    "#         curr_ts = sorted_tses[tc]\n",
    "\n",
    "#         bounded_tstamps = self.ts[(self.ts >= prev_ts) & (self.ts <= curr_ts)]\n",
    "\n",
    "#         if len(bounded_tstamps) == 0:\n",
    "#             self.closest_idxs.append(None)\n",
    "#             continue\n",
    "\n",
    "#         # just always take the one that is closest to the current timestamp\n",
    "#         closest_ts = bounded_tstamps[-1]\n",
    "\n",
    "#         # this has the feeling of suboptimal\n",
    "#         self.closest_idxs.append(np.where(self.ts == closest_ts)[0][0])\n",
    "\n",
    "# np.recarray.sample = sample"
   ]
  },
  {
   "cell_type": "code",
   "execution_count": 19,
   "metadata": {},
   "outputs": [],
   "source": [
    "def convert_gaze_to_recarray(gaze_data, ts, ts_rel):\n",
    "    out = np.recarray(gaze_data.shape[0], dtype=[('x', '<f4'), ('y', '<f4'), ('ts', '<f8'), ('ts_rel', '<f8')])\n",
    "    out.x = gaze_data[:, 0]\n",
    "    out.y = gaze_data[:, 1]\n",
    "    out.ts = ts.astype(np.float64)\n",
    "    out.ts_rel = ts_rel.astype(np.float64)\n",
    "    \n",
    "    return out"
   ]
  },
  {
   "cell_type": "code",
   "execution_count": 20,
   "metadata": {},
   "outputs": [
    {
     "data": {
      "text/plain": [
       "1706217591.04255"
      ]
     },
     "execution_count": 20,
     "metadata": {},
     "output_type": "execute_result"
    }
   ],
   "source": [
    "ts"
   ]
  },
  {
   "cell_type": "code",
   "execution_count": 22,
   "metadata": {},
   "outputs": [],
   "source": [
    "class NeonRecording:\n",
    "    def __init__(self):\n",
    "        self.info = []\n",
    "        self._calib = []\n",
    "\n",
    "        self.start_ts = 0\n",
    "\n",
    "        self.scene_camera = []\n",
    "        self.eye1_camera = []\n",
    "        self.eye2_camera = []\n",
    "        self.streams = {\n",
    "            'gaze': Stream('gaze'),\n",
    "            'imu': Stream('imu'),\n",
    "            'scene': Stream('scene')\n",
    "        }\n",
    "\n",
    "        self._gaze_ps1_raw_time = []\n",
    "        self._gaze_200hz_raw_time = []\n",
    "        self._gaze_right_ps1_raw_time = []\n",
    "        self._gaze_ps1_ts = []\n",
    "        self._gaze_ps1_raw = []\n",
    "        self._gaze_right_ps1_ts = []\n",
    "        self._gaze_right_ps1_raw = []\n",
    "        self._worn_ps1_raw = []\n",
    "\n",
    "    # TODO: save for the end\n",
    "    def check(self):\n",
    "        pass\n",
    "\n",
    "    @property\n",
    "    def gaze(self):\n",
    "        return self.streams['gaze']\n",
    "    \n",
    "    @property\n",
    "    def imu(self):\n",
    "        return self.streams['imu']\n",
    "    \n",
    "    @property\n",
    "    def scene(self):\n",
    "        return self.streams['scene']\n",
    "\n",
    "    @staticmethod\n",
    "    def load(rec_dir):\n",
    "        rec = NeonRecording()\n",
    "\n",
    "        with open(rec_dir + '/info.json') as f:\n",
    "            rec.info = json.load(f)\n",
    "\n",
    "        rec._start_ts_ns = rec.info['start_time']\n",
    "        rec.start_ts = conversion(rec.info['start_time'])\n",
    "\n",
    "        with open(rec_dir + 'calibration.bin', 'rb') as f:\n",
    "            raw_data = f.read()\n",
    "\n",
    "        # obtained here: \n",
    "        # https://github.com/pupil-labs/realtime-python-api/blob/main/src/pupil_labs/realtime_api/device.py#L178\n",
    "        rec._calib = np.frombuffer(\n",
    "            raw_data,\n",
    "            np.dtype(\n",
    "                [\n",
    "                    (\"version\", \"u1\"),\n",
    "                    (\"serial\", \"6a\"),\n",
    "                    (\"scene_camera_matrix\", \"(3,3)d\"),\n",
    "                    (\"scene_distortion_coefficients\", \"8d\"),\n",
    "                    (\"scene_extrinsics_affine_matrix\", \"(4,4)d\"),\n",
    "                    (\"right_camera_matrix\", \"(3,3)d\"),\n",
    "                    (\"right_distortion_coefficients\", \"8d\"),\n",
    "                    (\"right_extrinsics_affine_matrix\", \"(4,4)d\"),\n",
    "                    (\"left_camera_matrix\", \"(3,3)d\"),\n",
    "                    (\"left_distortion_coefficients\", \"8d\"),\n",
    "                    (\"left_extrinsics_affine_matrix\", \"(4,4)d\"),\n",
    "                    (\"crc\", \"u4\"),\n",
    "                ]\n",
    "            ),\n",
    "        )\n",
    "\n",
    "        # rec.version = rec._calib['version']\n",
    "        rec.serial = rec._calib['serial']\n",
    "        rec.scene_camera = {\n",
    "            'matrix': rec._calib['scene_camera_matrix'],\n",
    "            'distortion': rec._calib['scene_distortion_coefficients'],\n",
    "            'extrinsics': rec._calib['scene_extrinsics_affine_matrix']\n",
    "        }\n",
    "        rec.eye1_camera = {\n",
    "            'matrix': rec._calib['right_camera_matrix'],\n",
    "            'distortion': rec._calib['right_distortion_coefficients'],\n",
    "            'extrinsics': rec._calib['right_extrinsics_affine_matrix']\n",
    "        }\n",
    "        rec.eye2_camera = {\n",
    "            'matrix': rec._calib['left_camera_matrix'],\n",
    "            'distortion': rec._calib['left_distortion_coefficients'],\n",
    "            'extrinsics': rec._calib['left_extrinsics_affine_matrix']\n",
    "        }\n",
    "\n",
    "        rec._gaze_ps1_raw_time = _neon_raw_time_load(rec_dir + '/gaze ps1.time')\n",
    "        rec._gaze_200hz_raw_time = _neon_raw_time_load(rec_dir + '/gaze_200hz.time')\n",
    "        rec._gaze_right_ps1_raw_time = _neon_raw_time_load(rec_dir + '/gaze_right ps1.time')\n",
    "\n",
    "        _rewrite_times(pathlib.Path(rec_dir + '/gaze ps1.time'))\n",
    "        rec._gaze_ps1_ts = _load_timestamps_data(pathlib.Path(rec_dir + '/gaze ps1_timestamps.npy'))\n",
    "        rec._gaze_ps1_raw = _load_raw_data(rec_dir + '/gaze ps1.raw')\n",
    "\n",
    "        _rewrite_times(pathlib.Path(rec_dir + '/gaze_200hz.time'))\n",
    "        gaze_200hz_ts = _load_timestamps_data(pathlib.Path(rec_dir + '/gaze_200hz_timestamps.npy'))\n",
    "        gaze_200hz_raw = _load_raw_data(rec_dir + '/gaze_200hz.raw')\n",
    "\n",
    "        gaze_200hz_ts_rel = gaze_200hz_ts - rec.start_ts\n",
    "        rec.streams['gaze'].load(convert_gaze_to_recarray(gaze_200hz_raw, gaze_200hz_ts, gaze_200hz_ts_rel))\n",
    "\n",
    "        _rewrite_times(pathlib.Path(rec_dir + '/gaze_right ps1.time'))\n",
    "        rec._gaze_right_ps1_ts = _load_timestamps_data(pathlib.Path(rec_dir + '/gaze_right ps1_timestamps.npy'))\n",
    "        rec._gaze_right_ps1_raw = _load_raw_data(rec_dir + '/gaze_right ps1.raw')\n",
    "\n",
    "        _rewrite_times(pathlib.Path(rec_dir + '/extimu ps1.time'))\n",
    "        imu_rec = IMURecording(pathlib.Path(rec_dir + '/extimu ps1.raw'), rec.start_ts)\n",
    "        rec.streams['imu'].load(imu_rec.raw)\n",
    "\n",
    "        rec._worn_ps1_raw = _load_worn_data(pathlib.Path(rec_dir + '/worn ps1.raw'))\n",
    "        # worn_ps1_raw = _load_worn_data(pathlib.Path(rec_dir + '/worn_200hz.raw'))\n",
    "\n",
    "        return rec"
   ]
  },
  {
   "cell_type": "code",
   "execution_count": 24,
   "metadata": {},
   "outputs": [
    {
     "name": "stderr",
     "output_type": "stream",
     "text": [
      "/var/folders/by/f4g6q8690z50zbfvy6kq71cc0000gn/T/ipykernel_80601/647576048.py:14: DeprecationWarning: The truth value of an empty array is ambiguous. Returning False, but in future this will result in an error. Use `array.size > 0` to check that an array is not empty.\n",
      "  if not nums:\n"
     ]
    }
   ],
   "source": [
    "rec = NeonRecording.load('../tests/test_data/2024-01-25_22-19-10_test-f96b6e36/')"
   ]
  },
  {
   "cell_type": "code",
   "execution_count": 26,
   "metadata": {},
   "outputs": [
    {
     "name": "stdout",
     "output_type": "stream",
     "text": [
      "[(804.34216, 806.01044, 1.70621755e+09, 2.608845)]\n",
      "[(802.19934, 807.4595, 1.70621755e+09, 2.61384869)]\n"
     ]
    }
   ],
   "source": [
    "gs = rec.streams['gaze']\n",
    "ts = rec.streams['gaze'].ts\n",
    "gs.sample([ts[0], ts[1], ts[2]])\n",
    "\n",
    "for g in gs:\n",
    "    print(g)"
   ]
  },
  {
   "cell_type": "code",
   "execution_count": 27,
   "metadata": {},
   "outputs": [
    {
     "name": "stdout",
     "output_type": "stream",
     "text": [
      "{'android_device_id': '6296df393d96a031',\n",
      " 'android_device_model': 'rtwo_ge',\n",
      " 'android_device_name': 'Neon Companion',\n",
      " 'app_version': '2.7.10-prod',\n",
      " 'calib_version': 1,\n",
      " 'data_format_version': '2.2',\n",
      " 'duration': 40252000000,\n",
      " 'firmware_version': [29, 8],\n",
      " 'frame_id': '1',\n",
      " 'frame_name': 'Just act natural',\n",
      " 'gaze_frequency': 200,\n",
      " 'gaze_offset': [0.0, 0.0],\n",
      " 'module_serial_number': '619453',\n",
      " 'os_version': '13',\n",
      " 'pipeline_version': '2.6.0',\n",
      " 'recording_id': 'f96b6e36-6c98-409c-be7c-46c3e408acb2',\n",
      " 'start_time': 1706217550686000000,\n",
      " 'template_data': {'data': {'c700c50c-cee1-45fb-b459-050e5ceeaeae': ['']},\n",
      "                   'id': '94733ede-ce4c-46be-aa72-7bb80e21bfe6',\n",
      "                   'recording_name': '2024-01-25_22:19:10',\n",
      "                   'version': '2024-01-25T09:33:35.681129Z'},\n",
      " 'wearer_id': '65aee704-fa44-4fec-a811-6b4b126afdb0',\n",
      " 'wearer_ied': 63.0,\n",
      " 'workspace_id': 'e8984f4b-fe9f-48f5-bf3e-46e1ae0669b8'}\n"
     ]
    }
   ],
   "source": [
    "rec.info\n",
    "pprint.pprint(rec.info)"
   ]
  },
  {
   "cell_type": "code",
   "execution_count": 28,
   "metadata": {},
   "outputs": [
    {
     "data": {
      "text/plain": [
       "array([(1, b'619453', [[885.15825992,   0.        , 824.12887524], [  0.        , 885.14923875, 612.28065252], [  0.        ,   0.        ,   1.        ]], [-0.13053092,  0.10917948, -0.0001823 , -0.00043524,  0.00068462,  0.17075814,  0.05227603,  0.02661005], [[1., 0., 0., 0.], [0., 1., 0., 0.], [0., 0., 1., 0.], [0., 0., 0., 1.]], [[139.37418637,   0.        ,  99.23202584], [  0.        , 139.35188665,  96.19039145], [  0.        ,   0.        ,   1.        ]], [ 3.68394045e-02, -1.23725784e-01,  1.05156082e-03, -6.51159021e-04, -6.49958070e-01, -5.22825142e-02,  9.73858508e-03, -6.94081020e-01], [[-0.82693827,  0.18204613,  0.53200775, 16.86289978], [ 0.07135105,  0.9724648 , -0.22185867, 19.95415497], [-0.55774736, -0.14550412, -0.81715757, -7.03173828], [ 0.        ,  0.        ,  0.        ,  1.        ]], [[139.02147562,   0.        ,  93.94689674], [  0.        , 139.25351257,  96.6396657 ], [  0.        ,   0.        ,   1.        ]], [ 0.05170779, -0.11790007, -0.00186199,  0.00106443, -0.60876161, -0.04746648,  0.02421155, -0.65088475], [[ -0.84299362,  -0.15711884,  -0.51446623, -16.83016968], [ -0.06646162,   0.97948653,  -0.1902342 ,  19.75001526], [  0.53380209,  -0.12617396,  -0.8361432 ,  -7.02308655], [  0.        ,   0.        ,   0.        ,   1.        ]], 1738849524)],\n",
       "      dtype=[('version', 'u1'), ('serial', 'S6'), ('scene_camera_matrix', '<f8', (3, 3)), ('scene_distortion_coefficients', '<f8', (8,)), ('scene_extrinsics_affine_matrix', '<f8', (4, 4)), ('right_camera_matrix', '<f8', (3, 3)), ('right_distortion_coefficients', '<f8', (8,)), ('right_extrinsics_affine_matrix', '<f8', (4, 4)), ('left_camera_matrix', '<f8', (3, 3)), ('left_distortion_coefficients', '<f8', (8,)), ('left_extrinsics_affine_matrix', '<f8', (4, 4)), ('crc', '<u4')])"
      ]
     },
     "execution_count": 28,
     "metadata": {},
     "output_type": "execute_result"
    }
   ],
   "source": [
    "rec._calib"
   ]
  },
  {
   "cell_type": "code",
   "execution_count": 29,
   "metadata": {},
   "outputs": [
    {
     "data": {
      "text/plain": [
       "{'gaze': <__main__.Stream at 0x147d74210>,\n",
       " 'imu': <__main__.Stream at 0x147d74550>,\n",
       " 'scene': <__main__.Stream at 0x147d75110>}"
      ]
     },
     "execution_count": 29,
     "metadata": {},
     "output_type": "execute_result"
    }
   ],
   "source": [
    "rec.streams"
   ]
  },
  {
   "cell_type": "code",
   "execution_count": 30,
   "metadata": {},
   "outputs": [
    {
     "data": {
      "text/plain": [
       "rec.array([(806.6711 ,  806.5423 , 1.70621755e+09,  2.60384369),\n",
       "           (804.34216,  806.01044, 1.70621755e+09,  2.608845  ),\n",
       "           (802.19934,  807.4595 , 1.70621755e+09,  2.61384869), ...,\n",
       "           (883.96313, 1085.5363 , 1.70621759e+09, 40.2386837 ),\n",
       "           (887.2845 , 1084.7004 , 1.70621759e+09, 40.24368477),\n",
       "           (884.99097, 1087.0084 , 1.70621759e+09, 40.24882483)],\n",
       "          dtype=[('x', '<f4'), ('y', '<f4'), ('ts', '<f8'), ('ts_rel', '<f8')])"
      ]
     },
     "execution_count": 30,
     "metadata": {},
     "output_type": "execute_result"
    }
   ],
   "source": [
    "rec.streams['gaze'].data"
   ]
  },
  {
   "cell_type": "code",
   "execution_count": 31,
   "metadata": {},
   "outputs": [
    {
     "data": {
      "text/plain": [
       "1706217550.6860003"
      ]
     },
     "execution_count": 31,
     "metadata": {},
     "output_type": "execute_result"
    }
   ],
   "source": [
    "rec.start_ts"
   ]
  },
  {
   "cell_type": "code",
   "execution_count": 32,
   "metadata": {},
   "outputs": [
    {
     "data": {
      "text/plain": [
       "2.6038436889648438"
      ]
     },
     "execution_count": 32,
     "metadata": {},
     "output_type": "execute_result"
    }
   ],
   "source": [
    "rec.streams['gaze'].data.ts[0] - rec.start_ts"
   ]
  },
  {
   "cell_type": "code",
   "execution_count": 33,
   "metadata": {},
   "outputs": [
    {
     "data": {
      "text/plain": [
       "array([ 2.60384369,  2.608845  ,  2.61384869, ..., 40.2386837 ,\n",
       "       40.24368477, 40.24882483])"
      ]
     },
     "execution_count": 33,
     "metadata": {},
     "output_type": "execute_result"
    }
   ],
   "source": [
    "rec.streams['gaze'].data.ts_rel"
   ]
  },
  {
   "cell_type": "code",
   "execution_count": 34,
   "metadata": {},
   "outputs": [
    {
     "data": {
      "text/plain": [
       "array([1.70621755e+09, 1.70621755e+09, 1.70621755e+09, ...,\n",
       "       1.70621759e+09, 1.70621759e+09, 1.70621759e+09])"
      ]
     },
     "execution_count": 34,
     "metadata": {},
     "output_type": "execute_result"
    }
   ],
   "source": [
    "rec.streams['imu'].data.ts"
   ]
  },
  {
   "cell_type": "code",
   "execution_count": 35,
   "metadata": {},
   "outputs": [
    {
     "data": {
      "text/plain": [
       "[1706217553.1487713, 1706217553.1590152]"
      ]
     },
     "execution_count": 35,
     "metadata": {},
     "output_type": "execute_result"
    }
   ],
   "source": [
    "[rec.streams['imu'].data.ts[0], rec.streams['imu'].data.ts[1]]"
   ]
  },
  {
   "cell_type": "code",
   "execution_count": 36,
   "metadata": {},
   "outputs": [
    {
     "name": "stdout",
     "output_type": "stream",
     "text": [
      "gaze\n",
      "198.69846583315015\n",
      "2.6038436889648438\n",
      "\n",
      "imu\n",
      "104.15957776951906\n",
      "2.462770938873291\n",
      "\n",
      "scene\n"
     ]
    },
    {
     "ename": "AttributeError",
     "evalue": "'list' object has no attribute 'ts'",
     "output_type": "error",
     "traceback": [
      "\u001b[0;31m---------------------------------------------------------------------------\u001b[0m",
      "\u001b[0;31mAttributeError\u001b[0m                            Traceback (most recent call last)",
      "Cell \u001b[0;32mIn[36], line 5\u001b[0m\n\u001b[1;32m      3\u001b[0m name \u001b[38;5;241m=\u001b[39m s\u001b[38;5;241m.\u001b[39mname\n\u001b[1;32m      4\u001b[0m \u001b[38;5;28mprint\u001b[39m(name)\n\u001b[0;32m----> 5\u001b[0m avg_spf \u001b[38;5;241m=\u001b[39m (\u001b[43ms\u001b[49m\u001b[38;5;241;43m.\u001b[39;49m\u001b[43mdata\u001b[49m\u001b[38;5;241;43m.\u001b[39;49m\u001b[43mts\u001b[49m[\u001b[38;5;241m-\u001b[39m\u001b[38;5;241m1\u001b[39m] \u001b[38;5;241m-\u001b[39m s\u001b[38;5;241m.\u001b[39mdata\u001b[38;5;241m.\u001b[39mts[\u001b[38;5;241m0\u001b[39m]) \u001b[38;5;241m/\u001b[39m \u001b[38;5;28mlen\u001b[39m(s\u001b[38;5;241m.\u001b[39mdata\u001b[38;5;241m.\u001b[39mts)\n\u001b[1;32m      6\u001b[0m avg_fps \u001b[38;5;241m=\u001b[39m \u001b[38;5;241m1\u001b[39m \u001b[38;5;241m/\u001b[39m avg_spf\n\u001b[1;32m      7\u001b[0m \u001b[38;5;28mprint\u001b[39m(avg_fps)\n",
      "\u001b[0;31mAttributeError\u001b[0m: 'list' object has no attribute 'ts'"
     ]
    }
   ],
   "source": [
    "for stream in rec.streams:\n",
    "    s = rec.streams[stream]\n",
    "    name = s.name\n",
    "    print(name)\n",
    "    avg_spf = (s.data.ts[-1] - s.data.ts[0]) / len(s.data.ts)\n",
    "    avg_fps = 1 / avg_spf\n",
    "    print(avg_fps)\n",
    "    start_offset = s.data.ts[0] - rec.start_ts\n",
    "    print(start_offset)\n",
    "    print()"
   ]
  },
  {
   "cell_type": "code",
   "execution_count": 37,
   "metadata": {},
   "outputs": [
    {
     "data": {
      "text/plain": [
       "rec.array(True,\n",
       "          dtype=bool)"
      ]
     },
     "execution_count": 37,
     "metadata": {},
     "output_type": "execute_result"
    }
   ],
   "source": [
    "np.all((rec.gaze.data == rec.streams['gaze'].data).flatten())"
   ]
  },
  {
   "cell_type": "code",
   "execution_count": 38,
   "metadata": {},
   "outputs": [
    {
     "data": {
      "text/plain": [
       "rec.array(True,\n",
       "          dtype=bool)"
      ]
     },
     "execution_count": 38,
     "metadata": {},
     "output_type": "execute_result"
    }
   ],
   "source": [
    "np.all((rec.imu.data == rec.streams['imu'].data).flatten())"
   ]
  },
  {
   "cell_type": "code",
   "execution_count": 39,
   "metadata": {},
   "outputs": [
    {
     "data": {
      "text/plain": [
       "array([1.70621755e+09, 1.70621755e+09, 1.70621755e+09, ...,\n",
       "       1.70621759e+09, 1.70621759e+09, 1.70621759e+09])"
      ]
     },
     "execution_count": 39,
     "metadata": {},
     "output_type": "execute_result"
    }
   ],
   "source": [
    "rec.gaze.ts"
   ]
  },
  {
   "cell_type": "code",
   "execution_count": 40,
   "metadata": {},
   "outputs": [
    {
     "data": {
      "text/plain": [
       "True"
      ]
     },
     "execution_count": 40,
     "metadata": {},
     "output_type": "execute_result"
    }
   ],
   "source": [
    "np.all((rec.gaze.ts == rec.streams['gaze'].ts).flatten())"
   ]
  },
  {
   "cell_type": "code",
   "execution_count": 41,
   "metadata": {},
   "outputs": [
    {
     "data": {
      "text/plain": [
       "True"
      ]
     },
     "execution_count": 41,
     "metadata": {},
     "output_type": "execute_result"
    }
   ],
   "source": [
    "np.all((rec.imu.ts == rec.streams['imu'].ts).flatten())"
   ]
  },
  {
   "cell_type": "code",
   "execution_count": 42,
   "metadata": {},
   "outputs": [
    {
     "data": {
      "text/plain": [
       "True"
      ]
     },
     "execution_count": 42,
     "metadata": {},
     "output_type": "execute_result"
    }
   ],
   "source": [
    "np.all(rec.imu.ts_rel == rec.streams['imu'].ts_rel)"
   ]
  },
  {
   "cell_type": "code",
   "execution_count": 43,
   "metadata": {},
   "outputs": [
    {
     "data": {
      "text/plain": [
       "True"
      ]
     },
     "execution_count": 43,
     "metadata": {},
     "output_type": "execute_result"
    }
   ],
   "source": [
    "np.all(rec.gaze.ts_rel == rec.streams['gaze'].ts_rel)"
   ]
  },
  {
   "cell_type": "code",
   "execution_count": 44,
   "metadata": {},
   "outputs": [],
   "source": [
    "# adapted from here:\n",
    "# https://github.com/pupil-labs/neon-player/blob/master/pupil_src/shared_modules/pupil_recording/update/neon.py#L181\n",
    "\n",
    "rec_dir = '../tests/test_data/2024-01-25_22-19-10_test-f96b6e36/'\n",
    "rec_path = pathlib.Path(rec_dir)\n",
    "\n",
    "labels = (rec_path / 'event.txt').read_text().strip().split('\\n')\n",
    "\n",
    "_rewrite_times(pathlib.Path(rec_dir + '/event.time'))\n",
    "timestamps = np.load(rec_path / 'event_timestamps.npy')\n",
    "timestamps_unix = np.load(rec_path / 'event_timestamps_unix.npy')"
   ]
  },
  {
   "cell_type": "code",
   "execution_count": 45,
   "metadata": {},
   "outputs": [
    {
     "data": {
      "text/plain": [
       "['recording.begin', 'recording.end']"
      ]
     },
     "execution_count": 45,
     "metadata": {},
     "output_type": "execute_result"
    }
   ],
   "source": [
    "labels"
   ]
  },
  {
   "cell_type": "code",
   "execution_count": 46,
   "metadata": {},
   "outputs": [
    {
     "data": {
      "text/plain": [
       "array([1.70621755e+09, 1.70621759e+09])"
      ]
     },
     "execution_count": 46,
     "metadata": {},
     "output_type": "execute_result"
    }
   ],
   "source": [
    "timestamps"
   ]
  },
  {
   "cell_type": "code",
   "execution_count": 47,
   "metadata": {},
   "outputs": [
    {
     "data": {
      "text/plain": [
       "array([1706217550686000000, 1706217590938000000], dtype=uint64)"
      ]
     },
     "execution_count": 47,
     "metadata": {},
     "output_type": "execute_result"
    }
   ],
   "source": [
    "timestamps_unix"
   ]
  },
  {
   "cell_type": "code",
   "execution_count": 48,
   "metadata": {},
   "outputs": [
    {
     "data": {
      "text/plain": [
       "[('recording.begin', 1706217550.6860003), ('recording.end', 1706217590.938)]"
      ]
     },
     "execution_count": 48,
     "metadata": {},
     "output_type": "execute_result"
    }
   ],
   "source": [
    "events = [evt for evt in zip(labels, timestamps)]\n",
    "events"
   ]
  },
  {
   "cell_type": "code",
   "execution_count": 49,
   "metadata": {},
   "outputs": [
    {
     "data": {
      "text/plain": [
       "{'recording.begin': 1706217550.6860003, 'recording.end': 1706217590.938}"
      ]
     },
     "execution_count": 49,
     "metadata": {},
     "output_type": "execute_result"
    }
   ],
   "source": [
    "unique_events = dict(events)\n",
    "unique_events"
   ]
  },
  {
   "cell_type": "code",
   "execution_count": 50,
   "metadata": {},
   "outputs": [
    {
     "data": {
      "text/plain": [
       "1706217550.6860003"
      ]
     },
     "execution_count": 50,
     "metadata": {},
     "output_type": "execute_result"
    }
   ],
   "source": [
    "unique_events['recording.begin']"
   ]
  },
  {
   "cell_type": "code",
   "execution_count": 51,
   "metadata": {},
   "outputs": [
    {
     "data": {
      "text/plain": [
       "[('rec.b', 1706217550.6860003),\n",
       " ('rec.b', 1706217888.6860003),\n",
       " ('rec.c', 1706218888.938),\n",
       " ('rec.c', 1706217590.938)]"
      ]
     },
     "execution_count": 51,
     "metadata": {},
     "output_type": "execute_result"
    }
   ],
   "source": [
    "t = [\n",
    "    ('rec.b', 1706217550.6860003),\n",
    "    ('rec.b', 1706217888.6860003),\n",
    "    ('rec.c', 1706218888.938),\n",
    "    ('rec.c', 1706217590.938),\n",
    "]\n",
    "t"
   ]
  },
  {
   "cell_type": "code",
   "execution_count": 52,
   "metadata": {},
   "outputs": [
    {
     "data": {
      "text/plain": [
       "[('rec.c', 1706217590.938),\n",
       " ('rec.c', 1706218888.938),\n",
       " ('rec.b', 1706217888.6860003),\n",
       " ('rec.b', 1706217550.6860003)]"
      ]
     },
     "execution_count": 52,
     "metadata": {},
     "output_type": "execute_result"
    }
   ],
   "source": [
    "t.reverse()\n",
    "t"
   ]
  },
  {
   "cell_type": "code",
   "execution_count": 53,
   "metadata": {},
   "outputs": [
    {
     "data": {
      "text/plain": [
       "{'rec.c': 1706218888.938, 'rec.b': 1706217550.6860003}"
      ]
     },
     "execution_count": 53,
     "metadata": {},
     "output_type": "execute_result"
    }
   ],
   "source": [
    "dict(t)"
   ]
  },
  {
   "cell_type": "code",
   "execution_count": 1,
   "metadata": {},
   "outputs": [
    {
     "name": "stdout",
     "output_type": "stream",
     "text": [
      "NeonRecording: Loading recording from: ../tests/test_data/2024-01-25_22-19-10_test-f96b6e36\n",
      "NeonRecording: Loading recording info and calibration data\n",
      "NeonRecording: Loading raw time files\n",
      "NeonRecording: Loading 'gaze ps1' data\n",
      "NeonRecording: Loading 'gaze_200hz' data\n",
      "NeonRecording: Loading 'gaze_right_ps1' data\n",
      "NeonRecording: Loading IMU data\n",
      "NeonRecording: Loading events\n",
      "NeonRecording: Parsing unique events\n",
      "NeonRecording: Finished loading recording.\n",
      "\n",
      "[804.34216309] [806.01043701] [1.70621755e+09]\n",
      "[802.19934082] [807.45947266] [1.70621755e+09]\n",
      "\n",
      "gz [804.34216309] [806.01043701] [1.70621755e+09]\n",
      "gz [802.19934082] [807.45947266] [1.70621755e+09]\n",
      "imu [-118.25288] [-44.7666] [124.22863] [1.70621755e+09]\n",
      "gz [800.52740479] [803.5536499] [1.70621755e+09]\n",
      "gz [804.71148682] [802.50836182] [1.70621755e+09]\n",
      "imu [-118.21066] [-44.766228] [124.16915] [1.70621755e+09]\n",
      "gz [804.94714355] [802.89910889] [1.70621755e+09]\n",
      "gz [803.04333496] [808.11279297] [1.70621755e+09]\n",
      "gz [805.105896] [805.82208252] [1.70621755e+09]\n",
      "imu [-118.186386] [-44.75581] [124.145706] [1.70621755e+09]\n",
      "gz [802.5491333] [805.89813232] [1.70621755e+09]\n",
      "gz [801.65289307] [802.92651367] [1.70621755e+09]\n",
      "imu [-117.08882] [-44.6636] [122.95194] [1.70621755e+09]\n",
      "gz [803.89904785] [805.28161621] [1.70621755e+09]\n",
      "imu [-117.05724] [-44.655304] [122.91567] [1.70621755e+09]\n",
      "gz [803.19116211] [806.07861328] [1.70621755e+09]\n",
      "gz [825.07128906] [787.12390137] [1.70621755e+09]\n",
      "imu [-117.032364] [-44.647003] [122.87821] [1.70621755e+09]\n",
      "gz [858.9944458] [785.83795166] [1.70621755e+09]\n",
      "gz [887.66778564] [786.25775146] [1.70621755e+09]\n",
      "imu [-117.03654] [-44.59934] [122.867004] [1.70621755e+09]\n"
     ]
    }
   ],
   "source": [
    "import pupil_labs.neon_recording as nr\n",
    "\n",
    "rec = nr.load('../tests/test_data/2024-01-25_22-19-10_test-f96b6e36/')\n",
    "\n",
    "gaze_data = rec.streams['gaze'].data\n",
    "gaze_ts = rec.streams['gaze'].ts\n",
    "gaze_start_offset = rec.streams['gaze'].data.ts[0] - rec.start_ts\n",
    "# there is also rec.streams['gaze'].ts_rel\n",
    "\n",
    "gaze = rec.streams['gaze']\n",
    "gaze.sample([gaze_ts[0], gaze_ts[1], gaze_ts[2]])\n",
    "\n",
    "for g in gaze:\n",
    "    if g:\n",
    "        print(g.x, g.y, g.ts)\n",
    "\n",
    "print()\n",
    "sample_ts = gaze_ts[:15]\n",
    "for gaze, imu in zip(rec.gaze.sample(sample_ts), rec.imu.sample(sample_ts)):\n",
    "    if gaze:\n",
    "        x = gaze.x\n",
    "        y = gaze.y\n",
    "        ts = gaze.ts\n",
    "\n",
    "        print('gz', x, y, ts)\n",
    "\n",
    "\n",
    "    if imu:\n",
    "        pitch = imu.pitch\n",
    "        yaw = imu.yaw\n",
    "        roll = imu.roll\n",
    "        ts = imu.ts\n",
    "\n",
    "        print('imu', pitch, yaw, roll, ts)\n"
   ]
  },
  {
   "cell_type": "code",
   "execution_count": 2,
   "metadata": {},
   "outputs": [
    {
     "ename": "AttributeError",
     "evalue": "'Stream' object has no attribute 'try_generator'",
     "output_type": "error",
     "traceback": [
      "\u001b[0;31m---------------------------------------------------------------------------\u001b[0m",
      "\u001b[0;31mAttributeError\u001b[0m                            Traceback (most recent call last)",
      "Cell \u001b[0;32mIn[2], line 2\u001b[0m\n\u001b[1;32m      1\u001b[0m rec\u001b[38;5;241m.\u001b[39mgaze\u001b[38;5;241m.\u001b[39msample([gaze_ts[\u001b[38;5;241m0\u001b[39m], gaze_ts[\u001b[38;5;241m1\u001b[39m], gaze_ts[\u001b[38;5;241m2\u001b[39m]])\n\u001b[0;32m----> 2\u001b[0m \u001b[38;5;28;01mfor\u001b[39;00m g \u001b[38;5;129;01min\u001b[39;00m \u001b[43mrec\u001b[49m\u001b[38;5;241;43m.\u001b[39;49m\u001b[43mgaze\u001b[49m\u001b[38;5;241;43m.\u001b[39;49m\u001b[43mtry_generator\u001b[49m():\n\u001b[1;32m      3\u001b[0m     \u001b[38;5;28mprint\u001b[39m(g)\n",
      "\u001b[0;31mAttributeError\u001b[0m: 'Stream' object has no attribute 'try_generator'"
     ]
    }
   ],
   "source": [
    "rec.gaze.sample([gaze_ts[0], gaze_ts[1], gaze_ts[2]])\n",
    "for g in rec.gaze.try_generator():\n",
    "    print(g)"
   ]
  },
  {
   "cell_type": "code",
   "execution_count": 3,
   "metadata": {},
   "outputs": [
    {
     "data": {
      "text/plain": [
       "array((-0.81443787, -1.1463165, -0.45204163, 0.04101563, -0.6098633, 0.7675781, -118.2757, -44.769444, 124.262, 0.51070815, -0.19833069, 0.26649785, -0.79298234, 1706217553288873064, 1.70621755e+09, 2.60287261),\n",
       "      dtype=(numpy.record, [('gyro_x', '<f4'), ('gyro_y', '<f4'), ('gyro_z', '<f4'), ('accel_x', '<f4'), ('accel_y', '<f4'), ('accel_z', '<f4'), ('pitch', '<f4'), ('yaw', '<f4'), ('roll', '<f4'), ('quaternion_w', '<f4'), ('quaternion_x', '<f4'), ('quaternion_y', '<f4'), ('quaternion_z', '<f4'), ('tsNs', '<u8'), ('ts', '<f8'), ('ts_rel', '<f8')]))"
      ]
     },
     "execution_count": 3,
     "metadata": {},
     "output_type": "execute_result"
    }
   ],
   "source": [
    "rec.imu.sample_one(gaze_ts[0])"
   ]
  },
  {
   "cell_type": "code",
   "execution_count": 5,
   "metadata": {},
   "outputs": [
    {
     "data": {
      "text/plain": [
       "array([[8.04342163e+02, 8.06010437e+02, 1.70621755e+09, 2.60884500e+00],\n",
       "       [8.02199341e+02, 8.07459473e+02, 1.70621755e+09, 2.61384869e+00]])"
      ]
     },
     "execution_count": 5,
     "metadata": {},
     "output_type": "execute_result"
    }
   ],
   "source": [
    "rec.gaze.to_numpy()"
   ]
  }
 ],
 "metadata": {
  "kernelspec": {
   "display_name": "robenv_latest",
   "language": "python",
   "name": "python3"
  },
  "language_info": {
   "codemirror_mode": {
    "name": "ipython",
    "version": 3
   },
   "file_extension": ".py",
   "mimetype": "text/x-python",
   "name": "python",
   "nbconvert_exporter": "python",
   "pygments_lexer": "ipython3",
   "version": "3.11.8"
  }
 },
 "nbformat": 4,
 "nbformat_minor": 2
}
